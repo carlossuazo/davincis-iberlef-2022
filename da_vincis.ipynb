{
 "cells": [
  {
   "cell_type": "markdown",
   "id": "2d2eeb33-50be-4d00-a1c2-e03ad6c76349",
   "metadata": {},
   "source": [
    "# Intentions"
   ]
  },
  {
   "cell_type": "markdown",
   "id": "07ca75c6-53b3-49d6-98f5-859cea5cb706",
   "metadata": {},
   "source": [
    "DA-VINCIS: is the acronym for **Detection of Aggressive and Violent Incidents from Social Media in Spanish**\n",
    "\n",
    "> With this project we try to detect the aggresive and violent content, with this work we are trying to be able to prevent identify people that witness or experience violence."
   ]
  },
  {
   "cell_type": "markdown",
   "id": "1ffc497d-f84f-48c1-9d09-dd7a510e7890",
   "metadata": {},
   "source": [
    "# Imports and Global Variables Definition"
   ]
  },
  {
   "cell_type": "code",
   "execution_count": 1,
   "id": "f0fb1ff5-1e9f-419b-89f7-89708dab933c",
   "metadata": {},
   "outputs": [],
   "source": [
    "import pandas as pd\n",
    "import numpy as np\n",
    "\n"
   ]
  },
  {
   "cell_type": "markdown",
   "id": "ee7691fc-b486-4595-8815-3a762cf68a25",
   "metadata": {},
   "source": [
    "# Read Data"
   ]
  },
  {
   "cell_type": "code",
   "execution_count": null,
   "id": "ccc6b090-fbb4-4a51-9602-c64084ede937",
   "metadata": {},
   "outputs": [],
   "source": [
    "df "
   ]
  }
 ],
 "metadata": {
  "kernelspec": {
   "display_name": "Python 3 (ipykernel)",
   "language": "python",
   "name": "python3"
  },
  "language_info": {
   "codemirror_mode": {
    "name": "ipython",
    "version": 3
   },
   "file_extension": ".py",
   "mimetype": "text/x-python",
   "name": "python",
   "nbconvert_exporter": "python",
   "pygments_lexer": "ipython3",
   "version": "3.8.8"
  }
 },
 "nbformat": 4,
 "nbformat_minor": 5
}
